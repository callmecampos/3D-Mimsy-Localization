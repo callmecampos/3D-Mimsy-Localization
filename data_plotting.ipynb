{
 "cells": [
  {
   "cell_type": "code",
   "execution_count": 1,
   "metadata": {
    "collapsed": false
   },
   "outputs": [],
   "source": [
    "%matplotlib inline\n",
    "import matplotlib.pyplot as plt\n",
    "import visualization\n",
    "reload(visualization)\n",
    "from visualization import *\n",
    "\n",
    "import pandas as pd\n",
    "import seaborn as sns\n",
    "import numpy as np\n",
    "from scipy.optimize import curve_fit\n",
    "from math import degrees"
   ]
  },
  {
   "cell_type": "code",
   "execution_count": 2,
   "metadata": {
    "collapsed": false
   },
   "outputs": [],
   "source": [
    "# parse text file\n",
    "data10 = [\n",
    "    '{rise = 1771694, fall = 1774426, type = -1}, {rise = 1902923, fall = 1903154, type = -1}, {rise = 2038385, fall = 2041451, type = -1}, {rise = 2166461, fall = 2166679, type = -1}, {rise = 2305046, fall = 2307118, type = -1}',\n",
    "    '{rise = 2987554, fall = 2987768, type = -1}, {rise = 3126232, fall = 3128293, type = -1}, {rise = 3257485, fall = 3257713, type = -1}, {rise = 3392880, fall = 3395286, type = -1}, {rise = 3520908, fall = 3521122, type = -1}',\n",
    "    '{rise = 25153900, fall = 25154111, type = -1}, {rise = 25292446, fall = 25295174, type = -1}, {rise = 25423812, fall = 25424040, type = -1}, {rise = 25559163, fall = 25561553, type = -1}, {rise = 25687249, fall = 25687462, type = -1}'\n",
    "]\n",
    "\n",
    "data9 = [\n",
    "    '{rise = 16490003, fall = 16490239, type = -1}, {rise = 16628668, fall = 16630743, type = -1}, {rise = 16759736, fall = 16759990, type = -1}, {rise = 16895352, fall = 16897752, type = -1}, {rise = 17023355, fall = 17023591, type = -1}',\n",
    "    '{rise = 30686000, fall = 30686241, type = -1}, {rise = 30824686, fall = 30826758, type = -1}, {rise = 30955780, fall = 30956037, type = -1}, {rise = 31091350, fall = 31093756, type = -1}, {rise = 31219354, fall = 31219592, type = -1}',\n",
    "    '{rise = 13621397, fall = 13621653, type = -1}, {rise = 13756788, fall = 13759856, type = -1}, {rise = 13884802, fall = 13885038, type = -1}, {rise = 14023447, fall = 14026184, type = -1}, {rise = 14154747, fall = 14155002, type = -1}',\n",
    "    '{rise = 23242155, fall = 23242410, type = -1}, {rise = 23377455, fall = 23379859, type = -1}, {rise = 23505464, fall = 23505703, type = -1}, {rise = 23644116, fall = 23646847, type = -1}, {rise = 23775505, fall = 23775762, type = -1}'\n",
    "]\n",
    "\n",
    "data8 = [\n",
    "    '{rise = 6079427, fall = 6082501, type = -1}, {rise = 6207309, fall = 6207578, type = -1}, {rise = 6346102, fall = 6348841, type = -1}, {rise = 6477782, fall = 6478065, type = -1}, {rise = 6612780, fall = 6615183, type = -1}',\n",
    "    '{rise = 1844566, fall = 1846633, type = -1}, {rise = 1976338, fall = 1976619, type = -1}, {rise = 2111245, fall = 2113648, type = -1}, {rise = 2239129, fall = 2239405, type = -1}, {rise = 2377929, fall = 2379992, type = -1}',\n",
    "    '{rise = 22233288, fall = 22233560, type = -1}, {rise = 22372078, fall = 22374146, type = -1}, {rise = 22503758, fall = 22504042, type = -1}, {rise = 22638741, fall = 22641150, type = -1}, {rise = 22766640, fall = 22766910, type = -1}'\n",
    "]\n",
    "\n",
    "data7 = [\n",
    "    \n",
    "]\n",
    "\n",
    "data6 = [\n",
    "    '{rise = 12604517, fall = 12607254, type = -1}, {rise = 12736325, fall = 12736706, type = -1}, {rise = 12871219, fall = 12873619, type = -1}, {rise = 12998814, fall = 12999188, type = -1}, {rise = 13137832, fall = 13139903, type = -1}',\n",
    "    '{rise = 17457301, fall = 17459379, type = -1}, {rise = 17588955, fall = 17589340, type = -1}, {rise = 17723999, fall = 17727071, type = -1}, {rise = 17851549, fall = 17851921, type = -1}, {rise = 17990659, fall = 17993400, type = -1}'\n",
    "]\n",
    "\n",
    "data5 = [\n",
    "    \n",
    "]\n",
    "\n",
    "data4 = [\n",
    "    \n",
    "]\n",
    "\n",
    "data3 = [\n",
    "    \n",
    "]"
   ]
  },
  {
   "cell_type": "code",
   "execution_count": 3,
   "metadata": {
    "collapsed": false
   },
   "outputs": [
    {
     "name": "stdout",
     "output_type": "stream",
     "text": [
      "[((6.1875, 6.84375), 1.4972555757541988, 1.5706156914997778)\n",
      " list([Pulse Object:<period=74.78125, type=Sync, predicted=1>, Pulse Object:<period=6.1875, type=Horiz, hit=3.97159375, parent=Sync>, Pulse Object:<period=64.8125, type=Sync, predicted=2>, Pulse Object:<period=6.84375, type=Vert, hit=4.1661875, parent=Sync>])]\n",
      "85.7864253431\n",
      "89.98965036\n"
     ]
    }
   ],
   "source": [
    "# data = '{rise = 15772142, fall = 15772349, type = -1}, {rise = 15909253, fall = 15911328, type = -1}, {rise = 16044275, fall = 16044495, type = -1}, {rise = 16175943, fall = 16178347, type = -1}, {rise = 16305496, fall = 16305703, type = -1}'\n",
    "data = '{rise = 7937834, fall = 7940621, type = -1}, {rise = 8073119, fall = 8073337, type = -1}, {rise = 8204498, fall = 8206901, type = -1}, {rise = 8333992, fall = 8334192, type = -1}, {rise = 8471181, fall = 8473245, type = -1}'\n",
    "data = '{rise = 14252037, fall = 14252257, type = -1}, {rise = 14383350, fall = 14385743, type = -1}, {rise = 14512834, fall = 14513032, type = -1}, {rise = 14649997, fall = 14652071, type = -1}, {rise = 14785389, fall = 14785608, type = -1}'\n",
    "res = np.array(Pulse.getCycleData(Pulse.parse(data)))\n",
    "print(res)\n",
    "print(degrees(res[0][1]))\n",
    "print(degrees(res[0][2]))"
   ]
  },
  {
   "cell_type": "code",
   "execution_count": 6,
   "metadata": {
    "collapsed": false
   },
   "outputs": [],
   "source": [
    "data10 = [\n",
    "    '{rise = 7937834, fall = 7940621, type = -1}, {rise = 8073119, fall = 8073337, type = -1}, {rise = 8204498, fall = 8206901, type = -1}, {rise = 8333992, fall = 8334192, type = -1}, {rise = 8471181, fall = 8473245, type = -1}',\n",
    "    '{rise = 14252037, fall = 14252257, type = -1}, {rise = 14383350, fall = 14385743, type = -1}, {rise = 14512834, fall = 14513032, type = -1}, {rise = 14649997, fall = 14652071, type = -1}, {rise = 14785389, fall = 14785608, type = -1}'\n",
    "]\n",
    "\n",
    "data9_5 = [\n",
    "    '{rise = 3377915, fall = 3379980, type = -1}, {rise = 3513225, fall = 3513454, type = -1}, {rise = 3644581, fall = 3647647, type = -1}, {rise = 3774081, fall = 3774288, type = -1}, {rise = 3911265, fall = 3913990, type = -1}',\n",
    "    '{rise = 11899958, fall = 11902032, type = -1}, {rise = 12035225, fall = 12035456, type = -1}, {rise = 12166666, fall = 12169074, type = -1}, {rise = 12296143, fall = 12296349, type = -1}, {rise = 12433314, fall = 12436048, type = -1}'\n",
    "]\n",
    "\n",
    "data9 = [\n",
    "    '{rise = 20866781, fall = 20867024, type = -1}, {rise = 20998025, fall = 21000428, type = -1}, {rise = 21127468, fall = 21127693, type = -1}, {rise = 21264746, fall = 21266815, type = -1}, {rise = 21400123, fall = 21400363, type = -1}',\n",
    "    '{rise = 5096057, fall = 5098118, type = -1}, {rise = 5231332, fall = 5231574, type = -1}, {rise = 5362684, fall = 5365087, type = -1}, {rise = 5492135, fall = 5492360, type = -1}, {rise = 5629411, fall = 5631486, type = -1}'\n",
    "]\n",
    "\n",
    "data8_5 = [\n",
    "    '{rise = 31934593, fall = 31934850, type = -1}, {rise = 65969, fall = 68375, type = -1}, {rise = 195299, fall = 195535, type = -1}, {rise = 332691, fall = 334757, type = -1}, {rise = 467950, fall = 468209, type = -1}',\n",
    "    '{rise = 22182907, fall = 22185310, type = -1}, {rise = 22312227, fall = 22312465, type = -1}, {rise = 22449597, fall = 22451664, type = -1}, {rise = 22584933, fall = 22585186, type = -1}, {rise = 22716255, fall = 22718646, type = -1}'\n",
    "]\n",
    "\n",
    "data8 = [\n",
    "    '{rise = 16521008, fall = 16523415, type = -1}, {rise = 16650407, fall = 16650662, type = -1}, {rise = 16787644, fall = 16789703, type = -1}, {rise = 16922802, fall = 16923069, type = -1}, {rise = 17054362, fall = 17056763, type = -1}',\n",
    "    '{rise = 24132903, fall = 24133172, type = -1}, {rise = 24264463, fall = 24266868, type = -1}, {rise = 24393859, fall = 24394113, type = -1}, {rise = 24531140, fall = 24533215, type = -1}, {rise = 24666262, fall = 24666530, type = -1}'\n",
    "]\n",
    "\n",
    "data7_5 = [\n",
    "    '{rise = 18844317, fall = 18844588, type = -1}, {rise = 18981630, fall = 18983706, type = -1}, {rise = 19116890, fall = 19117179, type = -1}, {rise = 19248287, fall = 19250695, type = -1}, {rise = 19377671, fall = 19377943, type = -1}'\n",
    "]\n",
    "\n",
    "data7 = [\n",
    "    '{rise = 27299775, fall = 27301847, type = -1}, {rise = 27435017, fall = 27435329, type = -1}, {rise = 27566483, fall = 27568875, type = -1}, {rise = 27695784, fall = 27696077, type = -1}, {rise = 27833136, fall = 27835868, type = -1}',\n",
    "    '{rise = 28525417, fall = 28525716, type = -1}, {rise = 28662860, fall = 28664936, type = -1}, {rise = 28798114, fall = 28798427, type = -1}, {rise = 28929522, fall = 28931917, type = -1}, {rise = 29058777, fall = 29059076, type = -1}'\n",
    "]\n",
    "\n",
    "data6_5 = [\n",
    "    '{rise = 27494158, fall = 27494497, type = -1}, {rise = 27625688, fall = 27628098, type = -1}, {rise = 27754858, fall = 27755185, type = -1}, {rise = 27892397, fall = 27895130, type = -1}, {rise = 28027506, fall = 28027847, type = -1}'\n",
    "]\n",
    "\n",
    "data6 = [\n",
    "    '{rise = 24464445, fall = 24466519, type = -1}, {rise = 24599735, fall = 24600109, type = -1}, {rise = 24731142, fall = 24733535, type = -1}, {rise = 24860252, fall = 24860603, type = -1}, {rise = 24997800, fall = 25000536, type = -1}',\n",
    "    '{rise = 17583575, fall = 17585969, type = -1}, {rise = 17712685, fall = 17713035, type = -1}, {rise = 17850264, fall = 17853007, type = -1}, {rise = 17985546, fall = 17985924, type = -1}, {rise = 18116921, fall = 18119996, type = -1}'\n",
    "]\n",
    "\n",
    "data5_5 = [\n",
    "    '{rise = 30947540, fall = 30949613, type = -1}, {rise = 31082775, fall = 31083188, type = -1}, {rise = 31214272, fall = 31217343, type = -1}, {rise = 31343341, fall = 31343739, type = -1}, {rise = 31480887, fall = 31483630, type = -1}',\n",
    "    '{rise = 27610331, fall = 27610741, type = -1}, {rise = 27741798, fall = 27744209, type = -1}, {rise = 27870870, fall = 27871267, type = -1}, {rise = 28008472, fall = 28011216, type = -1}, {rise = 28143693, fall = 28144103, type = -1}'\n",
    "]\n",
    "\n",
    "data5 = [\n",
    "    '{rise = 18566179, fall = 18566621, type = -1}, {rise = 18703850, fall = 18705921, type = -1}, {rise = 18839235, fall = 18839688, type = -1}, {rise = 18970519, fall = 18973593, type = -1}, {rise = 19099537, fall = 19099975, type = -1}'\n",
    "]\n",
    "\n",
    "data4_5 = [\n",
    "    '{rise = 3264735, fall = 3267144, type = -1}, {rise = 3393569, fall = 3394071, type = -1}, {rise = 3531387, fall = 3533458, type = -1}, {rise = 3666724, fall = 3667232, type = -1}, {rise = 3798088, fall = 3800500, type = -1}',\n",
    "    '{rise = 28507405, fall = 28507915, type = -1}, {rise = 28638768, fall = 28641177, type = -1}, {rise = 28767643, fall = 28768145, type = -1}, {rise = 28905435, fall = 28907510, type = -1}, {rise = 29040759, fall = 29041269, type = -1}'\n",
    "]\n",
    "\n",
    "data4 = [\n",
    "    '{rise = 17049524, fall = 17050115, type = -1}, {rise = 17180850, fall = 17183924, type = -1}, {rise = 17309607, fall = 17310183, type = -1}, {rise = 17447534, fall = 17450277, type = -1}, {rise = 17582879, fall = 17583464, type = -1}'\n",
    "]\n",
    "\n",
    "data3_5 = [\n",
    "    '{rise = 2004972, fall = 2008052, type = -1}, {rise = 2133399, fall = 2134078, type = -1}, {rise = 2271646, fall = 2273722, type = -1}, {rise = 2407105, fall = 2407821, type = -1}, {rise = 2407105, fall = 2541784, type = -1}',\n",
    "    '{rise = 16030965, fall = 16031677, type = -1}, {rise = 16162154, fall = 16165228, type = -1}, {rise = 16290590, fall = 16291271, type = -1}, {rise = 16428869, fall = 16430949, type = -1}, {rise = 16564337, fall = 16565048, type = -1}'\n",
    "]\n",
    "\n",
    "data3 = [\n",
    "    '{rise = 9184505, fall = 9184712, type = -1}, {rise = 9186672, fall = 9187484, type = -1}, {rise = 9325095, fall = 9327169, type = -1}, {rise = 9460759, fall = 9461684, type = -1}, {rise = 9591809, fall = 9594224, type = -1}'\n",
    "    '{rise = 5880846, fall = 5883591, type = -1}, {rise = 6016241, fall = 6017143, type = -1}, {rise = 6147504, fall = 6149916, type = -1}, {rise = 6273445, fall = 6273783, type = -1}, {rise = 6275585, fall = 6276441, type = -1}'\n",
    "    '{rise = 9622461, fall = 9624869, type = -1}, {rise = 9748467, fall = 9748719, type = -1}, {rise = 9750615, fall = 9751448, type = -1}, {rise = 9889142, fall = 9891225, type = -1}, {rise = 10024633, fall = 10025545, type = -1}'\n",
    "]\n",
    "\n",
    "mapping = {10: data10, 9.5: data9_5, 9: data9, \\\n",
    "           8.5: data8_5, 8: data8, 7.5: data7_5, \\\n",
    "           7: data7, 6.5: data6_5, 6: data6, \\\n",
    "           5.5: data5_5, 5: data5, 4.5: data4_5, \\\n",
    "           4: data4, 3.5: data3_5, 3: data3}\n",
    "\n",
    "def toFeet(m):\n",
    "    return m * 3.28084\n",
    "\n",
    "def toMeters(f):\n",
    "    return f / 3.28084\n",
    "\n",
    "_map = {}\n",
    "for k in mapping.keys():\n",
    "    _map[toMeters(k)] = mapping.get(k)\n",
    "    \n",
    "mapping = _map"
   ]
  },
  {
   "cell_type": "code",
   "execution_count": 4,
   "metadata": {
    "collapsed": false
   },
   "outputs": [
    {
     "name": "stdout",
     "output_type": "stream",
     "text": [
      "(95.6875, 13.75)\n"
     ]
    },
    {
     "data": {
      "text/plain": [
       "([(68544.90625, 68558.96875),\n",
       "  (72830.8125, 72916.09375),\n",
       "  (81163.65625, 81259.34375),\n",
       "  (85212.59375, 85226.34375),\n",
       "  (89498.0625, 89562.5)],\n",
       " [14.0625, 85.28125, 95.6875, 13.75, 64.4375])"
      ]
     },
     "execution_count": 4,
     "metadata": {},
     "output_type": "execute_result"
    }
   ],
   "source": [
    "p = [(6383788, 6383627), (6360632, 6360329), (6342670, 6342367), (6324692, 6324389), (6296505, 6284169)]\n",
    "p = [(18801108, 18803500), (18912971, 18913207), (19067747, 19070487), (19201546, 19201846), (19334465, 19337537)]\n",
    "\n",
    "p = [(2193437, 2193887), (2330586, 2333315), (2597237, 2600299), (2726803, 2727243), (2863938, 2866000)]\n",
    "\n",
    "p = [(i[0]/Pulse.CLOCK_SPEED_MHZ, i[1]/Pulse.CLOCK_SPEED_MHZ) for i in p]\n",
    "a = [i[1] - i[0] for i in p]\n",
    "print(max(a), min(a))\n",
    "p, a"
   ]
  },
  {
   "cell_type": "code",
   "execution_count": 5,
   "metadata": {
    "collapsed": false
   },
   "outputs": [
    {
     "name": "stdout",
     "output_type": "stream",
     "text": [
      "('Failed.', (None, [Pulse Object:<period=6.46875, type=Nil>, Pulse Object:<period=25.375, type=Nil>, Pulse Object:<period=64.8125, type=Sync, predicted=2>, Pulse Object:<period=28.90625, type=Vert, hit=4.1746875, parent=Sync>, Pulse Object:<period=75.46875, type=Sync, predicted=1>, Pulse Object:<period=85.78125, type=Nil>, Pulse Object:<period=28.1875, type=Nil>, Pulse Object:<period=75.375, type=Sync, predicted=1>, Pulse Object:<period=10.5625, type=Horiz, hit=3.86028125, parent=Sync>, Pulse Object:<period=26.75, type=Nil>, Pulse Object:<period=75.25, type=Sync, predicted=1>, Pulse Object:<period=7.875, type=Horiz, hit=3.8624375, parent=Sync>, Pulse Object:<period=26.03125, type=Nil>, Pulse Object:<period=65.09375, type=Sync, predicted=2>, Pulse Object:<period=28.5, type=Vert, hit=4.169, parent=Sync>]))\n"
     ]
    },
    {
     "data": {
      "text/plain": [
       "<matplotlib.text.Text at 0x114b1dd90>"
      ]
     },
     "execution_count": 5,
     "metadata": {},
     "output_type": "execute_result"
    },
    {
     "data": {
      "image/png": "[encoded data removed]",
      "text/plain": [
       "<matplotlib.figure.Figure at 0x114a72950>"
      ]
     },
     "metadata": {},
     "output_type": "display_data"
    }
   ],
   "source": [
    "hpairs = []\n",
    "vpairs = []\n",
    "for d in mapping.keys():\n",
    "    for structs in mapping.get(d):\n",
    "        cycleData = Pulse.getCycleData(Pulse.parse(structs))\n",
    "        if cycleData[0]:\n",
    "            cycleData = cycleData[0][0]\n",
    "            hpairs.append((cycleData[0], d))\n",
    "            vpairs.append((cycleData[1], d))\n",
    "        else:\n",
    "            print('Failed.', cycleData)\n",
    "h = plt.scatter(*zip(*hpairs), label='Horizontal Sweep')\n",
    "v = plt.scatter(*zip(*vpairs), label='Vertical Sweep')\n",
    "\n",
    "plt.legend(handles=[h, v])\n",
    "\n",
    "plt.ylabel(\"Distance from Base Station (m)\")\n",
    "plt.xlabel(\"Sweep Pulse Width ($\\mu$s)\")\n",
    "\n",
    "plt.title('Sweep Pulse Width vs. Distance')"
   ]
  },
  {
   "cell_type": "code",
   "execution_count": 6,
   "metadata": {
    "collapsed": false
   },
   "outputs": [
    {
     "data": {
      "text/plain": [
       "<matplotlib.axes._subplots.AxesSubplot at 0x114bfa790>"
      ]
     },
     "execution_count": 6,
     "metadata": {},
     "output_type": "execute_result"
    },
    {
     "data": {
      "image/png": "[encoded data removed]",
      "text/plain": [
       "<matplotlib.figure.Figure at 0x114a60e90>"
      ]
     },
     "metadata": {},
     "output_type": "display_data"
    }
   ],
   "source": [
    "x, y = zip(*hpairs)\n",
    "hx, hy = np.array(x), np.array(y)\n",
    "sns.regplot(hx, hy)\n",
    "\n",
    "x, y = zip(*vpairs)\n",
    "vx, vy = np.array(x), np.array(y)\n",
    "sns.regplot(vx, vy)"
   ]
  },
  {
   "cell_type": "code",
   "execution_count": 16,
   "metadata": {
    "collapsed": false
   },
   "outputs": [
    {
     "name": "stdout",
     "output_type": "stream",
     "text": [
      "Horizontal sensor width (mm): 6.898616477715619\n",
      "['c0 = -0.3024295202989389', 'c1 = 18.299147816761405', 'error = 0.22179515582971934']\n",
      "Vertical sensor width (mm): 6.1038048273143675\n",
      "['c0 = 0.9001301981064473', 'c1 = 16.190844517953764', 'error = 0.3074043434430749']\n"
     ]
    },
    {
     "data": {
      "image/png": "[encoded data removed]",
      "text/plain": [
       "<matplotlib.figure.Figure at 0x116442090>"
      ]
     },
     "metadata": {},
     "output_type": "display_data"
    }
   ],
   "source": [
    "W = pi / 8333.333\n",
    "\n",
    "# plot data\n",
    "dx, dy = hx, hy\n",
    "plt.scatter(dx,dy, label=\"Horizontal Sweep\")\n",
    "\n",
    "# Fitting\n",
    "#model = lambda t_p, d_s, theta, c: c + d_s / (t_p*W - 2*theta)\n",
    "model = lambda X, c0, c1, _e: _e + c1 / (X - c0)\n",
    "popt, pcov = curve_fit(model, dx, dy, p0=[1,0,0])\n",
    "# plot fit\n",
    "x = np.linspace(dx.min(),dx.max(),250)\n",
    "plt.plot(x,model(x,*popt), label=\"Horiz\")\n",
    "\n",
    "args = ['c0', 'c1', 'error']\n",
    "\n",
    "print(\"Horizontal sensor width (mm): \" + str(popt[1] * 1000.0 * W))\n",
    "print([args[i] + \" = \" + str(p) for i, p in enumerate(popt)])\n",
    "\n",
    "# plot data\n",
    "dx, dy = vx, vy\n",
    "plt.scatter(dx,dy, label=\"Vertical Sweep\")\n",
    "\n",
    "# Fitting\n",
    "# model = lambda t_p, d_s, theta, c: c + d_s / (t_p*W - 2*theta)\n",
    "model = lambda X, c0, c1, _e: _e + c1 / (X - c0)\n",
    "popt, pcov = curve_fit(model, dx, dy, p0=[1,0,0])\n",
    "# plot fit\n",
    "x = np.linspace(dx.min(),dx.max(),250)\n",
    "plt.plot(x,model(x,*popt), label=\"Vert\")\n",
    "\n",
    "print(\"Vertical sensor width (mm): \" + str(popt[1] * 1000 * W))\n",
    "print([args[i] + \" = \" + str(p) for i, p in enumerate(popt)])\n",
    "\n",
    "plt.ylabel(\"Distance from Base Station (m)\")\n",
    "plt.xlabel(\"Sweep Pulse Period ($\\mu$s)\")\n",
    "plt.title(r'Fitting $\\frac{c_1}{(t_{pulse}-c_0)*\\omega}+\\epsilon$ to Pulse Period ($\\mu$s) vs. Distance (m)', y=1.03)\n",
    "\n",
    "# plt.ylim(min(mapping.keys()),max(mapping.keys()))\n",
    "plt.legend()\n",
    "plt.show()\n",
    "\n",
    "# sensor_width / pulse_period = r*w --> pulse_period = sensor_width / r*w + beam_width / r*w\n",
    "\n",
    "# 6 mm = combined width of beam and diode (VERTICAL)\n",
    "# 6.9 mm = HORIZONTAL\n",
    "\n",
    "# (A + c) / (R - x0) = p\n",
    "# R = x0 + (A + c) / p\n",
    "# R = x0 + (A + c) / p = (SENSOR_WIDTH / SWEEP_VEL) / (PULSE_PERIOD - x0) + (2*BEAM_WIDTH / SWEEP_VEL) / (PULSE_PERIOD - x0)"
   ]
  },
  {
   "cell_type": "code",
   "execution_count": 308,
   "metadata": {
    "collapsed": false
   },
   "outputs": [
    {
     "data": {
      "text/plain": [
       "(61.85091140743845, 0.6532555519888522, 2.0, -0.46112355156791374)"
      ]
     },
     "execution_count": 308,
     "metadata": {},
     "output_type": "execute_result"
    }
   ],
   "source": [
    "hA, hx0, hsig, hc"
   ]
  },
  {
   "cell_type": "code",
   "execution_count": 309,
   "metadata": {
    "collapsed": false
   },
   "outputs": [
    {
     "data": {
      "text/plain": [
       "(52.4172525623507, 1.0261721144086915, 2.0, 0.9886966846157756)"
      ]
     },
     "execution_count": 309,
     "metadata": {},
     "output_type": "execute_result"
    }
   ],
   "source": [
    "vA, vx0, vsig, vc"
   ]
  },
  {
   "cell_type": "code",
   "execution_count": 337,
   "metadata": {
    "collapsed": true
   },
   "outputs": [],
   "source": [
    "def radial_h(pulseWidth):\n",
    "    return hx0 + hA / (pulseWidth - hc)\n",
    "\n",
    "def radial_v(pulseWidth):\n",
    "    return vx0 + vA / (pulseWidth - vc)"
   ]
  },
  {
   "cell_type": "code",
   "execution_count": 338,
   "metadata": {
    "collapsed": false
   },
   "outputs": [
    {
     "name": "stdout",
     "output_type": "stream",
     "text": [
      "(10.161212526504997, 1.2764757341411253)\n"
     ]
    }
   ],
   "source": [
    "print(radial_h(6.46875), radial_v(7.15625))"
   ]
  },
  {
   "cell_type": "code",
   "execution_count": 416,
   "metadata": {
    "collapsed": false
   },
   "outputs": [
    {
     "name": "stdout",
     "output_type": "stream",
     "text": [
      "[(12.4375, 1.6763999463552017), (12.40625, 1.6763999463552017), (6.46875, 2.895599907340803), (6.4375, 2.895599907340803), (18.0, 1.2191999609856012), (10.21875, 1.981199936601602), (6.25, 3.047999902464003), (6.1875, 3.047999902464003), (7.03125, 2.743199912217603), (7.03125, 2.743199912217603), (21.21875, 1.066799965862401), (21.28125, 1.066799965862401), (10.96875, 1.828799941478402), (10.9375, 1.828799941478402), (15.6875, 1.3715999561088015), (15.6875, 1.3715999561088015), (13.6875, 1.5239999512320015), (7.375, 2.5907999170944027), (7.4375, 2.5907999170944027), (8.5, 2.2859999268480022), (9.15625, 2.133599931724802), (9.34375, 2.133599931724802), (7.96875, 2.4383999219712025), (7.9375, 2.4383999219712025)]\n"
     ]
    }
   ],
   "source": [
    "print(hpairs)"
   ]
  },
  {
   "cell_type": "code",
   "execution_count": 417,
   "metadata": {
    "collapsed": false
   },
   "outputs": [
    {
     "name": "stdout",
     "output_type": "stream",
     "text": [
      "[(12.90625, 1.6763999463552017), (12.8125, 1.6763999463552017), (7.15625, 2.895599907340803), (7.21875, 2.895599907340803), (18.28125, 1.2191999609856012), (10.65625, 1.981199936601602), (6.8125, 3.047999902464003), (6.84375, 3.047999902464003), (7.5, 2.743199912217603), (7.5625, 2.743199912217603), (22.375, 1.066799965862401), (22.21875, 1.066799965862401), (11.6875, 1.828799941478402), (11.8125, 1.828799941478402), (15.875, 1.3715999561088015), (15.9375, 1.3715999561088015), (14.15625, 1.5239999512320015), (8.09375, 2.5907999170944027), (7.90625, 2.5907999170944027), (9.03125, 2.2859999268480022), (9.75, 2.133599931724802), (9.78125, 2.133599931724802), (8.34375, 2.4383999219712025), (8.375, 2.4383999219712025)]\n"
     ]
    }
   ],
   "source": [
    "print(vpairs)"
   ]
  },
  {
   "cell_type": "code",
   "execution_count": 438,
   "metadata": {
    "collapsed": false
   },
   "outputs": [
    {
     "data": {
      "text/plain": [
       "0.1716120596713051"
      ]
     },
     "execution_count": 438,
     "metadata": {},
     "output_type": "execute_result"
    }
   ],
   "source": [
    "min([(abs((((22.17952367165162 + (0.6898615801606605 / (VEL * (p[0] + 0.30242903829021156)))) / 100.0) - p[1])) * 100 / p[1]) for p in hpairs])"
   ]
  },
  {
   "cell_type": "code",
   "execution_count": null,
   "metadata": {
    "collapsed": true
   },
   "outputs": [],
   "source": []
  }
 ],
 "metadata": {
  "kernelspec": {
   "display_name": "Python [Root]",
   "language": "python",
   "name": "Python [Root]"
  },
  "language_info": {
   "codemirror_mode": {
    "name": "ipython",
    "version": 2
   },
   "file_extension": ".py",
   "mimetype": "text/x-python",
   "name": "python",
   "nbconvert_exporter": "python",
   "pygments_lexer": "ipython2",
   "version": "2.7.11"
  }
 },
 "nbformat": 4,
 "nbformat_minor": 0
}
